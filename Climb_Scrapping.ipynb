{
 "cells": [
  {
   "cell_type": "code",
   "execution_count": 1,
   "metadata": {},
   "outputs": [],
   "source": [
    "import pandas as pd\n",
    "import json\n",
    "import requests\n",
    "from bs4 import BeautifulSoup\n",
    "from tqdm import tqdm\n",
    "from json import loads"
   ]
  },
  {
   "cell_type": "code",
   "execution_count": 3,
   "metadata": {},
   "outputs": [],
   "source": [
    "tqdm.pandas()"
   ]
  },
  {
   "cell_type": "markdown",
   "metadata": {},
   "source": [
    "## Scrapping"
   ]
  },
  {
   "cell_type": "code",
   "execution_count": null,
   "metadata": {},
   "outputs": [],
   "source": [
    "# Définition des en-têtes\n",
    "headers = {\"httpapiaccesstoken\": \"M4rvBxc4M7kqqdtXPDvFEYm9\"}\n",
    "data = {}\n",
    "\n",
    "# Parcours des IDs avec une barre de progression\n",
    "for id in tqdm(range(1, 3656), desc=\"Fetching data\"):\n",
    "    entry = {}  # Dictionnaire pour l'ID actuel\n",
    "    \n",
    "    # URL pour route_figures\n",
    "    url_level = f\"https://api.oblyk.org/api/v1/public/crags/{id}/route_figures.json\"\n",
    "    response_level = requests.get(url_level, headers=headers)\n",
    "\n",
    "    if response_level.status_code == 200:\n",
    "        try:\n",
    "            dic_level_response = response_level.json()\n",
    "            if dic_level_response:\n",
    "                # Utilisation de get() pour éviter les erreurs si une clé est manquante\n",
    "                entry[\"route_count\"] = dic_level_response.get(\"route_count\")\n",
    "                \n",
    "                # Accès sécurisé aux éléments imbriqués\n",
    "                grade = dic_level_response.get(\"grade\", {})\n",
    "                min_grade = grade.get(\"min\", {})\n",
    "                crag_route = min_grade.get(\"crag_route\")\n",
    "                if crag_route:  # Vérifiez si crag_route n'est pas None\n",
    "                    crag = crag_route.get(\"crag\", {})\n",
    "                    entry[\"name\"] = crag.get(\"name\", \"Nom non disponible\")\n",
    "                else:\n",
    "                    entry[\"name\"] = \"Nom non disponible\"\n",
    "                \n",
    "                entry[\"climbing_types\"] = dic_level_response.get(\"climbing_types\", [])\n",
    "                entry[\"levels\"] = dic_level_response.get(\"levels\", [])\n",
    "            else:\n",
    "                print(f\"Aucune donnée trouvée pour ID {id}\")\n",
    "        except ValueError:\n",
    "            print(f\"Invalid JSON for ID {id}\")\n",
    "    \n",
    "    # URL pour les infos principales\n",
    "    url_info = f\"https://api.oblyk.org/api/v1/public/crags/{id}.json\"\n",
    "    response_info = requests.get(url_info, headers=headers)\n",
    "\n",
    "    if response_info.status_code == 200:\n",
    "        try:\n",
    "            dic_info_response = response_info.json()\n",
    "            if dic_info_response:\n",
    "                # Accès sécurisé aux éléments imbriqués\n",
    "                entry[\"north\"] = dic_info_response.get(\"north\")\n",
    "                entry[\"north_east\"] = dic_info_response.get(\"north_east\")\n",
    "                entry[\"east\"] = dic_info_response.get(\"east\")\n",
    "                entry[\"south_east\"] = dic_info_response.get(\"south_east\")\n",
    "                entry[\"south\"] = dic_info_response.get(\"south\")\n",
    "                entry[\"south_west\"] = dic_info_response.get(\"south_west\")\n",
    "                entry[\"west\"] = dic_info_response.get(\"west\")\n",
    "                entry[\"north_west\"] = dic_info_response.get(\"north_west\")\n",
    "                entry[\"summer\"] = dic_info_response.get(\"summer\")\n",
    "                entry[\"autumn\"] = dic_info_response.get(\"autumn\")\n",
    "                entry[\"winter\"] = dic_info_response.get(\"winter\")\n",
    "                entry[\"spring\"] = dic_info_response.get(\"spring\")\n",
    "                entry[\"latitude\"] = dic_info_response.get(\"latitude\")\n",
    "                entry[\"longitude\"] = dic_info_response.get(\"longitude\")\n",
    "                entry[\"region\"] = dic_info_response.get(\"region\")\n",
    "                entry[\"rocks\"] = dic_info_response.get(\"rocks\")\n",
    "                entry[\"photo\"] = (\n",
    "                    dic_info_response.get(\"photo\", {})\n",
    "                    .get(\"attachments\", {})\n",
    "                    .get(\"picture\", {})\n",
    "                    .get(\"variant_path\", \"Photo non disponible\")\n",
    "                )\n",
    "            else:\n",
    "                print(f\"Aucune donnée trouvée pour ID {id}\")\n",
    "        except ValueError:\n",
    "            print(f\"Invalid JSON for ID {id}\")\n",
    "    \n",
    "    # Ajouter l'ID et les informations associées au dictionnaire principal\n",
    "    data[id] = entry\n",
    "\n",
    "# Vérification du résultat\n",
    "print(f\"Nombre total d'entrées collectées : {len(data)}\")"
   ]
  },
  {
   "cell_type": "code",
   "execution_count": 88,
   "metadata": {},
   "outputs": [],
   "source": [
    "df = pd.DataFrame(data)"
   ]
  },
  {
   "cell_type": "code",
   "execution_count": 89,
   "metadata": {},
   "outputs": [],
   "source": [
    "df = df.T"
   ]
  },
  {
   "cell_type": "code",
   "execution_count": null,
   "metadata": {},
   "outputs": [],
   "source": [
    "# Export CSV\n",
    "df.to_csv(\"spots_grimpe.csv\", index=False)"
   ]
  },
  {
   "cell_type": "markdown",
   "metadata": {},
   "source": [
    "## Nettoyage et normalisation des données"
   ]
  },
  {
   "cell_type": "code",
   "execution_count": 7,
   "metadata": {},
   "outputs": [],
   "source": [
    "# Import CSV\n",
    "df = pd.read_csv(\"spots_grimpe.csv\")"
   ]
  },
  {
   "cell_type": "code",
   "execution_count": 8,
   "metadata": {},
   "outputs": [],
   "source": [
    "# Suppression des des lignes qui ont des valeurs nuls dans les colonnes \"latitude\" ou \"longitude\"\n",
    "df = df.dropna(subset=[\"latitude\"])\n",
    "df = df.dropna(subset=[\"longitude\"])"
   ]
  },
  {
   "cell_type": "code",
   "execution_count": 17,
   "metadata": {},
   "outputs": [],
   "source": [
    "# Suppression des lignes qui n'ont pas de nom\n",
    "df = df[df[\"name\"] != \"Nom non disponible\"]"
   ]
  },
  {
   "cell_type": "code",
   "execution_count": 62,
   "metadata": {},
   "outputs": [],
   "source": [
    "# Fonction pour extraire les dictionnaires dans la colonne \"levels\" et créer de nouvelles colonnes avec les clés / valeurs des dictionnaires\n",
    "def dic_levels(row):\n",
    "    dico = loads(row[\"levels\"].replace(\"'\",'\"'))\n",
    "    for key, item in dico.items():\n",
    "        row[key] = item\n",
    "    return row"
   ]
  },
  {
   "cell_type": "code",
   "execution_count": null,
   "metadata": {},
   "outputs": [],
   "source": [
    "# Apply de la fonction ci-dessus\n",
    "df = df.apply(dic_levels,axis=1)"
   ]
  },
  {
   "cell_type": "code",
   "execution_count": 64,
   "metadata": {},
   "outputs": [],
   "source": [
    "# Fonction pour extraire les dictionnaires dans la colonne \"climbing_types\" et créer de nouvelles colonnes avec les clés / valeurs des dictionnaires\n",
    "def dic_climbing_types(row):\n",
    "    dico = loads(row[\"climbing_types\"].replace(\"'\",'\"'))\n",
    "    for key, item in dico.items():\n",
    "        row[key] = item\n",
    "    return row"
   ]
  },
  {
   "cell_type": "code",
   "execution_count": 65,
   "metadata": {},
   "outputs": [],
   "source": [
    "# Apply de la fonction ci-dessus\n",
    "df = df.apply(dic_climbing_types,axis=1)"
   ]
  },
  {
   "cell_type": "code",
   "execution_count": null,
   "metadata": {},
   "outputs": [],
   "source": [
    "# Suppression des colonnes \"Climb_Scrapping\" et \"levels\"\n",
    "df = df.drop(columns=[\"climbing_types\", \"levels\"])"
   ]
  },
  {
   "cell_type": "code",
   "execution_count": 8,
   "metadata": {},
   "outputs": [],
   "source": [
    "# Ajout d'une photo en cas de valeur nul\n",
    "df[\"photo\"] = df[\"photo\"].fillna(\"https://i.imghippo.com/files/iRIz5028stI.webp\")"
   ]
  },
  {
   "cell_type": "code",
   "execution_count": 11,
   "metadata": {},
   "outputs": [],
   "source": [
    "# Export CSV\n",
    "df.to_csv(\"spots_grimpe.csv\", index=False)\n"
   ]
  },
  {
   "cell_type": "code",
   "execution_count": 72,
   "metadata": {},
   "outputs": [
    {
     "data": {
      "text/plain": [
       "Index(['route_count', 'name', 'north', 'north_east', 'east', 'south_east',\n",
       "       'south', 'south_west', 'west', 'north_west', 'summer', 'autumn',\n",
       "       'winter', 'spring', 'latitude', 'longitude', 'region', 'rocks', 'photo',\n",
       "       '1a', '1b', '1c', '2a', '2b', '2c', '3a', '3b', '3c', '4a', '4b', '4c',\n",
       "       '5a', '5b', '5c', '6a', '6b', '6c', '7a', '7b', '7c', '8a', '8b', '8c',\n",
       "       '9a', '9b', '9c', 'sport_climbing', 'bouldering', 'multi_pitch',\n",
       "       'trad_climbing', 'aid_climbing', 'deep_water', 'via_ferrata'],\n",
       "      dtype='object')"
      ]
     },
     "execution_count": 72,
     "metadata": {},
     "output_type": "execute_result"
    }
   ],
   "source": [
    "df.columns"
   ]
  },
  {
   "cell_type": "code",
   "execution_count": null,
   "metadata": {},
   "outputs": [],
   "source": []
  }
 ],
 "metadata": {
  "kernelspec": {
   "display_name": "base",
   "language": "python",
   "name": "python3"
  },
  "language_info": {
   "codemirror_mode": {
    "name": "ipython",
    "version": 3
   },
   "file_extension": ".py",
   "mimetype": "text/x-python",
   "name": "python",
   "nbconvert_exporter": "python",
   "pygments_lexer": "ipython3",
   "version": "3.9.13"
  }
 },
 "nbformat": 4,
 "nbformat_minor": 2
}
