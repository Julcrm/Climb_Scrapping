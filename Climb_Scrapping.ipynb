{
 "cells": [
  {
   "cell_type": "code",
   "execution_count": 3,
   "metadata": {},
   "outputs": [],
   "source": [
    "import pandas as pd\n",
    "import json\n",
    "import requests\n",
    "from bs4 import BeautifulSoup\n",
    "from tqdm import tqdm"
   ]
  },
  {
   "cell_type": "code",
   "execution_count": 3,
   "metadata": {},
   "outputs": [],
   "source": [
    "tqdm.pandas()"
   ]
  },
  {
   "cell_type": "markdown",
   "metadata": {},
   "source": [
    "## Nettoyage du DF"
   ]
  },
  {
   "cell_type": "code",
   "execution_count": 52,
   "metadata": {},
   "outputs": [],
   "source": [
    "# Open du fichier JSON\n",
    "with open('spots_grimpe.json', 'r') as file:\n",
    "    data = json.load(file)"
   ]
  },
  {
   "cell_type": "code",
   "execution_count": 53,
   "metadata": {},
   "outputs": [],
   "source": [
    "# JSON TO DF\n",
    "df = pd.DataFrame(data['data'])"
   ]
  },
  {
   "cell_type": "code",
   "execution_count": 54,
   "metadata": {},
   "outputs": [],
   "source": [
    "# Suppression des colonnes\n",
    "df = df.drop(columns= [\"ref_topo\", \"equipement\", \"topo_num\"])"
   ]
  },
  {
   "cell_type": "code",
   "execution_count": 55,
   "metadata": {},
   "outputs": [],
   "source": [
    "# Supression du tiret situé à la fin\n",
    "def sup_tiret(row):\n",
    "    return row.rstrip(\"-\")\n",
    "\n",
    "\n",
    "df[\"type_escalade\"] = df[\"type_escalade\"].apply(sup_tiret)\n",
    "df[\"exposition\"] = df[\"exposition\"].apply(sup_tiret)\n",
    "df[\"public\"] = df[\"public\"].apply(sup_tiret)"
   ]
  },
  {
   "cell_type": "code",
   "execution_count": 56,
   "metadata": {},
   "outputs": [],
   "source": [
    "# Création de liste à la place d'une chaîne de caractéres\n",
    "def transfo_liste(chaine:str)-> list:\n",
    "    liste_genres = []\n",
    "    for genre in chaine.split(\"-\"):\n",
    "        liste_genres.append(genre.strip())\n",
    "    return liste_genres\n",
    "\n",
    "df[\"type_escalade\"] = df[\"type_escalade\"].apply(transfo_liste)\n",
    "df[\"exposition\"] = df[\"exposition\"].apply(transfo_liste)\n",
    "df[\"public\"] = df[\"public\"].apply(transfo_liste)\n",
    "df[\"saison\"] = df[\"saison\"].apply(transfo_liste)"
   ]
  },
  {
   "cell_type": "code",
   "execution_count": 57,
   "metadata": {},
   "outputs": [],
   "source": [
    "# Remplacer \"hautniveau\" par \"haut niveau\" dans les listes\n",
    "df['public'] = df['public'].apply(lambda lst: ['haut niveau' if x == 'hautniveau' else x for x in lst])"
   ]
  },
  {
   "cell_type": "code",
   "execution_count": 58,
   "metadata": {},
   "outputs": [],
   "source": [
    "# Dictionnaire de mappage\n",
    "mapping_orientation = {\n",
    "    \"S\": \"Sud\",\n",
    "    \"N\": \"Nord\",\n",
    "    \"W\": \"Ouest\",\n",
    "    \"E\": \"Est\",\n",
    "    \"SW\": \"Sud-Ouest\",\n",
    "    \"SE\": \"Sud-Est\",\n",
    "    \"NW\": \"Nord-Ouest\",\n",
    "    \"NE\": \"Nord-Est\"\n",
    "}\n",
    "\n",
    "# Appliquer le mappage aux listes dans la colonne \"exposition\"\n",
    "df[\"exposition\"] = df[\"exposition\"].apply(lambda lst: [mapping_orientation.get(el, el) for el in lst])"
   ]
  },
  {
   "cell_type": "code",
   "execution_count": 60,
   "metadata": {},
   "outputs": [],
   "source": [
    "# Dictionnaire de mappage\n",
    "mapping_mois = {\n",
    "    \"1\": \"Janvier\",\n",
    "    \"2\": \"Février\",\n",
    "    \"3\": \"Mars\",\n",
    "    \"4\": \"Avril\",\n",
    "    \"5\": \"Mai\",\n",
    "    \"6\": \"Juin\",\n",
    "    \"7\": \"Juillet\",\n",
    "    \"8\": \"Août\",\n",
    "    \"9\": \"Septembre\",\n",
    "    \"10\": \"Octobre\",\n",
    "    \"11\": \"Novembre\",\n",
    "    \"12\": \"Decembre\"\n",
    "\n",
    "}\n",
    "\n",
    "# Appliquer le mappage aux listes dans la colonne \"saison\"\n",
    "df[\"saison\"] = df[\"saison\"].apply(lambda lst: [mapping_mois.get(el, el) for el in lst])"
   ]
  },
  {
   "cell_type": "code",
   "execution_count": 61,
   "metadata": {},
   "outputs": [
    {
     "name": "stderr",
     "output_type": "stream",
     "text": [
      "/var/folders/fk/s9b7316s21b6krxxntv4pzzm0000gn/T/ipykernel_1485/3093565319.py:2: FutureWarning: The default value of regex will change from True to False in a future version. In addition, single character regular expressions will *not* be treated as literal strings when regex=True.\n",
      "  df['url'] = df['nom'].str.replace('(', '').str.replace(')', '').str.replace(' - ', '-').str.replace(' ', '-')\n"
     ]
    }
   ],
   "source": [
    "# Suppression des () et des - puis remplacer les espaces par des tirets pour l'url\n",
    "df['url'] = df['nom'].str.replace('(', '').str.replace(')', '').str.replace(' - ', '-').str.replace(' ', '-')"
   ]
  },
  {
   "cell_type": "markdown",
   "metadata": {},
   "source": [
    "## Scrapping"
   ]
  },
  {
   "cell_type": "code",
   "execution_count": null,
   "metadata": {},
   "outputs": [],
   "source": [
    "# Définition des en-têtes\n",
    "headers = {\"httpapiaccesstoken\": \"M4rvBxc4M7kqqdtXPDvFEYm9\"}\n",
    "data = {}\n",
    "\n",
    "# Parcours des IDs avec une barre de progression\n",
    "for id in tqdm(range(1, 3656), desc=\"Fetching data\"):\n",
    "    entry = {}  # Dictionnaire pour l'ID actuel\n",
    "    \n",
    "    # URL pour route_figures\n",
    "    url_level = f\"https://api.oblyk.org/api/v1/public/crags/{id}/route_figures.json\"\n",
    "    response_level = requests.get(url_level, headers=headers)\n",
    "\n",
    "    if response_level.status_code == 200:\n",
    "        try:\n",
    "            dic_level_response = response_level.json()\n",
    "            if dic_level_response:\n",
    "                # Utilisation de get() pour éviter les erreurs si une clé est manquante\n",
    "                entry[\"route_count\"] = dic_level_response.get(\"route_count\")\n",
    "                \n",
    "                # Accès sécurisé aux éléments imbriqués\n",
    "                grade = dic_level_response.get(\"grade\", {})\n",
    "                min_grade = grade.get(\"min\", {})\n",
    "                crag_route = min_grade.get(\"crag_route\")\n",
    "                if crag_route:  # Vérifiez si crag_route n'est pas None\n",
    "                    crag = crag_route.get(\"crag\", {})\n",
    "                    entry[\"name\"] = crag.get(\"name\", \"Nom non disponible\")\n",
    "                else:\n",
    "                    entry[\"name\"] = \"Nom non disponible\"\n",
    "                \n",
    "                entry[\"climbing_types\"] = dic_level_response.get(\"climbing_types\", [])\n",
    "                entry[\"levels\"] = dic_level_response.get(\"levels\", [])\n",
    "            else:\n",
    "                print(f\"Aucune donnée trouvée pour ID {id}\")\n",
    "        except ValueError:\n",
    "            print(f\"Invalid JSON for ID {id}\")\n",
    "    \n",
    "    # URL pour les infos principales\n",
    "    url_info = f\"https://api.oblyk.org/api/v1/public/crags/{id}.json\"\n",
    "    response_info = requests.get(url_info, headers=headers)\n",
    "\n",
    "    if response_info.status_code == 200:\n",
    "        try:\n",
    "            dic_info_response = response_info.json()\n",
    "            if dic_info_response:\n",
    "                # Accès sécurisé aux éléments imbriqués\n",
    "                entry[\"north\"] = dic_info_response.get(\"north\")\n",
    "                entry[\"north_east\"] = dic_info_response.get(\"north_east\")\n",
    "                entry[\"east\"] = dic_info_response.get(\"east\")\n",
    "                entry[\"south_east\"] = dic_info_response.get(\"south_east\")\n",
    "                entry[\"south\"] = dic_info_response.get(\"south\")\n",
    "                entry[\"south_west\"] = dic_info_response.get(\"south_west\")\n",
    "                entry[\"west\"] = dic_info_response.get(\"west\")\n",
    "                entry[\"north_west\"] = dic_info_response.get(\"north_west\")\n",
    "                entry[\"summer\"] = dic_info_response.get(\"summer\")\n",
    "                entry[\"autumn\"] = dic_info_response.get(\"autumn\")\n",
    "                entry[\"winter\"] = dic_info_response.get(\"winter\")\n",
    "                entry[\"spring\"] = dic_info_response.get(\"spring\")\n",
    "                entry[\"latitude\"] = dic_info_response.get(\"latitude\")\n",
    "                entry[\"longitude\"] = dic_info_response.get(\"longitude\")\n",
    "                entry[\"region\"] = dic_info_response.get(\"region\")\n",
    "                entry[\"rocks\"] = dic_info_response.get(\"rocks\")\n",
    "                entry[\"photo\"] = (\n",
    "                    dic_info_response.get(\"photo\", {})\n",
    "                    .get(\"attachments\", {})\n",
    "                    .get(\"picture\", {})\n",
    "                    .get(\"variant_path\", \"Photo non disponible\")\n",
    "                )\n",
    "            else:\n",
    "                print(f\"Aucune donnée trouvée pour ID {id}\")\n",
    "        except ValueError:\n",
    "            print(f\"Invalid JSON for ID {id}\")\n",
    "    \n",
    "    # Ajouter l'ID et les informations associées au dictionnaire principal\n",
    "    data[id] = entry\n",
    "\n",
    "# Vérification du résultat\n",
    "print(f\"Nombre total d'entrées collectées : {len(data)}\")"
   ]
  },
  {
   "cell_type": "code",
   "execution_count": 88,
   "metadata": {},
   "outputs": [],
   "source": [
    "df = pd.DataFrame(data)"
   ]
  },
  {
   "cell_type": "code",
   "execution_count": 89,
   "metadata": {},
   "outputs": [],
   "source": [
    "df = df.T"
   ]
  },
  {
   "cell_type": "code",
   "execution_count": 18,
   "metadata": {},
   "outputs": [],
   "source": [
    "# Export CSV\n",
    "df.to_csv(\"spots_grimpe.csv\", index=False)\n"
   ]
  },
  {
   "cell_type": "markdown",
   "metadata": {},
   "source": [
    "## Analyse"
   ]
  },
  {
   "cell_type": "code",
   "execution_count": 4,
   "metadata": {},
   "outputs": [],
   "source": [
    "# Import CSV\n",
    "df = pd.read_csv(\"spots_grimpe.csv\")"
   ]
  },
  {
   "cell_type": "code",
   "execution_count": 23,
   "metadata": {},
   "outputs": [
    {
     "data": {
      "text/plain": [
       "0       {'1a': 0, '1b': 0, '1c': 0, '2a': 0, '2b': 0, ...\n",
       "1       {'1a': 0, '1b': 0, '1c': 0, '2a': 0, '2b': 0, ...\n",
       "2       {'1a': 0, '1b': 0, '1c': 0, '2a': 0, '2b': 0, ...\n",
       "3       {'1a': 0, '1b': 0, '1c': 0, '2a': 0, '2b': 0, ...\n",
       "4       {'1a': 0, '1b': 0, '1c': 0, '2a': 0, '2b': 0, ...\n",
       "                              ...                        \n",
       "3650    {'1a': 0, '1b': 0, '1c': 0, '2a': 0, '2b': 0, ...\n",
       "3651    {'1a': 0, '1b': 0, '1c': 0, '2a': 0, '2b': 0, ...\n",
       "3652    {'1a': 0, '1b': 0, '1c': 0, '2a': 0, '2b': 0, ...\n",
       "3653    {'1a': 0, '1b': 0, '1c': 0, '2a': 0, '2b': 0, ...\n",
       "3654    {'1a': 0, '1b': 0, '1c': 0, '2a': 0, '2b': 0, ...\n",
       "Name: levels, Length: 3108, dtype: object"
      ]
     },
     "execution_count": 23,
     "metadata": {},
     "output_type": "execute_result"
    }
   ],
   "source": [
    "df[\"levels\"]"
   ]
  },
  {
   "cell_type": "code",
   "execution_count": 8,
   "metadata": {},
   "outputs": [],
   "source": [
    "df = df.dropna(subset=[\"latitude\"])\n",
    "df = df.dropna(subset=[\"longitude\"])"
   ]
  },
  {
   "cell_type": "code",
   "execution_count": 17,
   "metadata": {},
   "outputs": [],
   "source": [
    "df = df[df[\"name\"] != \"Nom non disponible\"]"
   ]
  },
  {
   "cell_type": "code",
   "execution_count": null,
   "metadata": {},
   "outputs": [],
   "source": []
  }
 ],
 "metadata": {
  "kernelspec": {
   "display_name": "base",
   "language": "python",
   "name": "python3"
  },
  "language_info": {
   "codemirror_mode": {
    "name": "ipython",
    "version": 3
   },
   "file_extension": ".py",
   "mimetype": "text/x-python",
   "name": "python",
   "nbconvert_exporter": "python",
   "pygments_lexer": "ipython3",
   "version": "3.9.13"
  }
 },
 "nbformat": 4,
 "nbformat_minor": 2
}
