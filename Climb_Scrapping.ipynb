{
 "cells": [
  {
   "cell_type": "code",
   "execution_count": 50,
   "metadata": {},
   "outputs": [],
   "source": [
    "import pandas as pd\n",
    "import json\n",
    "import requests\n",
    "from bs4 import BeautifulSoup\n",
    "from tqdm import tqdm"
   ]
  },
  {
   "cell_type": "code",
   "execution_count": 51,
   "metadata": {},
   "outputs": [],
   "source": [
    "tqdm.pandas()"
   ]
  },
  {
   "cell_type": "markdown",
   "metadata": {},
   "source": [
    "## Nettoyage du DF"
   ]
  },
  {
   "cell_type": "code",
   "execution_count": 52,
   "metadata": {},
   "outputs": [],
   "source": [
    "# Open du fichier JSON\n",
    "with open('spots_grimpe.json', 'r') as file:\n",
    "    data = json.load(file)"
   ]
  },
  {
   "cell_type": "code",
   "execution_count": 53,
   "metadata": {},
   "outputs": [],
   "source": [
    "# JSON TO DF\n",
    "df = pd.DataFrame(data['data'])"
   ]
  },
  {
   "cell_type": "code",
   "execution_count": 54,
   "metadata": {},
   "outputs": [],
   "source": [
    "# Suppression des colonnes\n",
    "df = df.drop(columns= [\"ref_topo\", \"equipement\", \"topo_num\"])"
   ]
  },
  {
   "cell_type": "code",
   "execution_count": 55,
   "metadata": {},
   "outputs": [],
   "source": [
    "# Supression du tiret situé à la fin\n",
    "def sup_tiret(row):\n",
    "    return row.rstrip(\"-\")\n",
    "\n",
    "\n",
    "df[\"type_escalade\"] = df[\"type_escalade\"].apply(sup_tiret)\n",
    "df[\"exposition\"] = df[\"exposition\"].apply(sup_tiret)\n",
    "df[\"public\"] = df[\"public\"].apply(sup_tiret)"
   ]
  },
  {
   "cell_type": "code",
   "execution_count": 56,
   "metadata": {},
   "outputs": [],
   "source": [
    "# Création de liste à la place d'une chaîne de caractéres\n",
    "def transfo_liste(chaine:str)-> list:\n",
    "    liste_genres = []\n",
    "    for genre in chaine.split(\"-\"):\n",
    "        liste_genres.append(genre.strip())\n",
    "    return liste_genres\n",
    "\n",
    "df[\"type_escalade\"] = df[\"type_escalade\"].apply(transfo_liste)\n",
    "df[\"exposition\"] = df[\"exposition\"].apply(transfo_liste)\n",
    "df[\"public\"] = df[\"public\"].apply(transfo_liste)\n",
    "df[\"saison\"] = df[\"saison\"].apply(transfo_liste)"
   ]
  },
  {
   "cell_type": "code",
   "execution_count": 57,
   "metadata": {},
   "outputs": [],
   "source": [
    "# Remplacer \"hautniveau\" par \"haut niveau\" dans les listes\n",
    "df['public'] = df['public'].apply(lambda lst: ['haut niveau' if x == 'hautniveau' else x for x in lst])"
   ]
  },
  {
   "cell_type": "code",
   "execution_count": 58,
   "metadata": {},
   "outputs": [],
   "source": [
    "# Dictionnaire de mappage\n",
    "mapping_orientation = {\n",
    "    \"S\": \"Sud\",\n",
    "    \"N\": \"Nord\",\n",
    "    \"W\": \"Ouest\",\n",
    "    \"E\": \"Est\",\n",
    "    \"SW\": \"Sud-Ouest\",\n",
    "    \"SE\": \"Sud-Est\",\n",
    "    \"NW\": \"Nord-Ouest\",\n",
    "    \"NE\": \"Nord-Est\"\n",
    "}\n",
    "\n",
    "# Appliquer le mappage aux listes dans la colonne \"exposition\"\n",
    "df[\"exposition\"] = df[\"exposition\"].apply(lambda lst: [mapping_orientation.get(el, el) for el in lst])"
   ]
  },
  {
   "cell_type": "code",
   "execution_count": 60,
   "metadata": {},
   "outputs": [],
   "source": [
    "# Dictionnaire de mappage\n",
    "mapping_mois = {\n",
    "    \"1\": \"Janvier\",\n",
    "    \"2\": \"Février\",\n",
    "    \"3\": \"Mars\",\n",
    "    \"4\": \"Avril\",\n",
    "    \"5\": \"Mai\",\n",
    "    \"6\": \"Juin\",\n",
    "    \"7\": \"Juillet\",\n",
    "    \"8\": \"Août\",\n",
    "    \"9\": \"Septembre\",\n",
    "    \"10\": \"Octobre\",\n",
    "    \"11\": \"Novembre\",\n",
    "    \"12\": \"Decembre\"\n",
    "\n",
    "}\n",
    "\n",
    "# Appliquer le mappage aux listes dans la colonne \"saison\"\n",
    "df[\"saison\"] = df[\"saison\"].apply(lambda lst: [mapping_mois.get(el, el) for el in lst])"
   ]
  },
  {
   "cell_type": "code",
   "execution_count": 61,
   "metadata": {},
   "outputs": [
    {
     "name": "stderr",
     "output_type": "stream",
     "text": [
      "/var/folders/fk/s9b7316s21b6krxxntv4pzzm0000gn/T/ipykernel_1485/3093565319.py:2: FutureWarning: The default value of regex will change from True to False in a future version. In addition, single character regular expressions will *not* be treated as literal strings when regex=True.\n",
      "  df['url'] = df['nom'].str.replace('(', '').str.replace(')', '').str.replace(' - ', '-').str.replace(' ', '-')\n"
     ]
    }
   ],
   "source": [
    "# Suppression des () et des - puis remplacer les espaces par des tirets pour l'url\n",
    "df['url'] = df['nom'].str.replace('(', '').str.replace(')', '').str.replace(' - ', '-').str.replace(' ', '-')"
   ]
  },
  {
   "cell_type": "markdown",
   "metadata": {},
   "source": [
    "## Scrapping des urls des images"
   ]
  },
  {
   "cell_type": "code",
   "execution_count": 11,
   "metadata": {},
   "outputs": [],
   "source": [
    "# Config BS4\n",
    "url = \"https://climbingaway.fr/fr/site-escalade/\"\n",
    "navigator = 'Mozilla/5.0 (Macintosh; Intel Mac OS X 10_10_1)'"
   ]
  },
  {
   "cell_type": "code",
   "execution_count": 13,
   "metadata": {},
   "outputs": [],
   "source": [
    "# Scrap de la class li de la page\n",
    "def scrap_url_img(row):\n",
    "    img_url = \"https://climbingaway.fr/\"\n",
    "    base_url = \"https://climbingaway.fr/fr/site-escalade/\"\n",
    "    page_url = row['url']  # Assurez-vous que cette colonne existe dans votre DataFrame\n",
    "    \n",
    "    # Envoie une requête pour récupérer la page HTML\n",
    "    response = requests.get(base_url + page_url, headers={'User-Agent': navigator})\n",
    "    soup = BeautifulSoup(response.content, 'html.parser')\n",
    "    \n",
    "    # Trouve la première balise <li> avec la classe 'minie_galerie_li'\n",
    "    class_li = soup.find_all('li', {\"class\": \"minie_galerie_li\"})\n",
    "    \n",
    "    if class_li:\n",
    "        # Extraire l'URL de l'image\n",
    "        url_img = class_li[0].find('img').get('src')\n",
    "        \n",
    "        # Nettoyer l'URL en enlevant '/..' au début\n",
    "        cleaned_url = url_img.lstrip('/..')\n",
    "        \n",
    "        # Retourner l'URL complète\n",
    "        return img_url + cleaned_url\n",
    "    return None  # Si aucune image n'est trouvée\n",
    "\n",
    "df['img_url'] = df.progress_apply(scrap_url_img, axis=1)"
   ]
  },
  {
   "cell_type": "code",
   "execution_count": 1,
   "metadata": {},
   "outputs": [],
   "source": [
    "import requests"
   ]
  },
  {
   "cell_type": "code",
   "execution_count": 24,
   "metadata": {},
   "outputs": [],
   "source": [
    "headers = {\n",
    "    \"authority\": \"api.oblyk.org\",\n",
    "    \"method\": \"GET\",\n",
    "    \"path\": \"/api/v1/public/crags/873.json\",\n",
    "    \"scheme\": \"https\",\n",
    "    \"accept\": \"application/json, text/plain, /\",\n",
    "    \"accept-encoding\": \"gzip, deflate, br, zstd\",\n",
    "    \"accept-language\": \"fr-FR,fr;q=0.9,en-US;q=0.8,en;q=0.7\",\n",
    "    \"cache-control\": \"no-cache\",\n",
    "    \"httpapiaccesstoken\": \"M4rvBxc4M7kqqdtXPDvFEYm9\",\n",
    "    \"origin\": \"https://oblyk.org/\",\n",
    "    \"pragma\": \"no-cache\",\n",
    "    \"priority\": \"u=1, i\",\n",
    "    \"referer\": \"https://oblyk.org/\",\n",
    "    \"sec-ch-ua\": '\"Google Chrome\";v=\"131\", \"Chromium\";v=\"131\", \"Not_A Brand\";v=\"24\"',\n",
    "    \"sec-ch-ua-mobile\": \"?0\",\n",
    "    \"sec-ch-ua-platform\": '\"Windows\"',\n",
    "    \"sec-fetch-dest\": \"empty\",\n",
    "    \"sec-fetch-mode\": \"cors\",\n",
    "    \"sec-fetch-site\": \"same-site\",\n",
    "    \"user-agent\": \"Mozilla/5.0 (Windows NT 10.0; Win64; x64) AppleWebKit/537.36 (KHTML, like Gecko) Chrome/131.0.0.0 Safari/537.36\"\n",
    "}\n",
    "\n",
    "\n",
    "response = requests.get(\"https://api.oblyk.org/api/v1/public/crags/100.json\", headers=headers)"
   ]
  },
  {
   "cell_type": "code",
   "execution_count": 29,
   "metadata": {},
   "outputs": [
    {
     "name": "stdout",
     "output_type": "stream",
     "text": [
      "{'section_count': 12, 'route_count': 12, 'grade': {'min': {'value': 11, 'text': '2c', 'crag_route': {'id': 2715, 'name': 'Rando', 'slug_name': 'rando', 'sections_count': 1, 'grade_gap': {'max_grade_value': 11, 'min_grade_value': 11, 'max_grade_text': '2c', 'min_grade_text': '2c'}, 'crag': {'id': 100, 'name': 'Roche Beuty', 'slug_name': 'roche-beuty'}}}, 'max': {'value': 27, 'text': '5b', 'crag_route': {'id': 2711, 'name': 'Dalle', 'slug_name': 'dalle', 'sections_count': 1, 'grade_gap': {'max_grade_value': 27, 'min_grade_value': 27, 'max_grade_text': '5b', 'min_grade_text': '5b'}, 'crag': {'id': 100, 'name': 'Roche Beuty', 'slug_name': 'roche-beuty'}}}}, 'climbing_types': {'sport_climbing': 11, 'bouldering': 1, 'multi_pitch': 0, 'trad_climbing': 0, 'aid_climbing': 0, 'deep_water': 0, 'via_ferrata': 0}, 'degrees': {'1': 0, '2': 1, '3': 4, '4': 2, '5': 5, '6': 0, '7': 0, '8': 0, '9': 0}, 'levels': {'1a': 0, '1b': 0, '1c': 0, '2a': 0, '2b': 0, '2c': 1, '3a': 3, '3b': 1, '3c': 0, '4a': 0, '4b': 0, '4c': 2, '5a': 2, '5b': 3, '5c': 0, '6a': 0, '6b': 0, '6c': 0, '7a': 0, '7b': 0, '7c': 0, '8a': 0, '8b': 0, '8c': 0, '9a': 0, '9b': 0, '9c': 0}}\n"
     ]
    }
   ],
   "source": [
    "import requests\n",
    "\n",
    "# Définition des en-têtes\n",
    "headers = {\"httpapiaccesstoken\": \"M4rvBxc4M7kqqdtXPDvFEYm9\"}\n",
    "\n",
    "\n",
    "# URL de l'API\n",
    "url = \"https://api.oblyk.org/api/v1/public/crags/100/route_figures.json\"\n",
    "\n",
    "# Envoi de la requête GET avec les en-têtes\n",
    "response = requests.get(url, headers=headers)\n",
    "\n",
    "# Affichage de la réponse\n",
    "if response.status_code == 200:\n",
    "    print(response.json())  # Affiche les données JSON obtenues\n",
    "else:\n",
    "    print(f\"Erreur {response.status_code}: {response.text}\")  # Si erreur, affiche le message d'erreur\n"
   ]
  },
  {
   "cell_type": "code",
   "execution_count": 30,
   "metadata": {},
   "outputs": [
    {
     "data": {
      "text/plain": [
       "{'section_count': 12,\n",
       " 'route_count': 12,\n",
       " 'grade': {'min': {'value': 11,\n",
       "   'text': '2c',\n",
       "   'crag_route': {'id': 2715,\n",
       "    'name': 'Rando',\n",
       "    'slug_name': 'rando',\n",
       "    'sections_count': 1,\n",
       "    'grade_gap': {'max_grade_value': 11,\n",
       "     'min_grade_value': 11,\n",
       "     'max_grade_text': '2c',\n",
       "     'min_grade_text': '2c'},\n",
       "    'crag': {'id': 100, 'name': 'Roche Beuty', 'slug_name': 'roche-beuty'}}},\n",
       "  'max': {'value': 27,\n",
       "   'text': '5b',\n",
       "   'crag_route': {'id': 2711,\n",
       "    'name': 'Dalle',\n",
       "    'slug_name': 'dalle',\n",
       "    'sections_count': 1,\n",
       "    'grade_gap': {'max_grade_value': 27,\n",
       "     'min_grade_value': 27,\n",
       "     'max_grade_text': '5b',\n",
       "     'min_grade_text': '5b'},\n",
       "    'crag': {'id': 100, 'name': 'Roche Beuty', 'slug_name': 'roche-beuty'}}}},\n",
       " 'climbing_types': {'sport_climbing': 11,\n",
       "  'bouldering': 1,\n",
       "  'multi_pitch': 0,\n",
       "  'trad_climbing': 0,\n",
       "  'aid_climbing': 0,\n",
       "  'deep_water': 0,\n",
       "  'via_ferrata': 0},\n",
       " 'degrees': {'1': 0,\n",
       "  '2': 1,\n",
       "  '3': 4,\n",
       "  '4': 2,\n",
       "  '5': 5,\n",
       "  '6': 0,\n",
       "  '7': 0,\n",
       "  '8': 0,\n",
       "  '9': 0},\n",
       " 'levels': {'1a': 0,\n",
       "  '1b': 0,\n",
       "  '1c': 0,\n",
       "  '2a': 0,\n",
       "  '2b': 0,\n",
       "  '2c': 1,\n",
       "  '3a': 3,\n",
       "  '3b': 1,\n",
       "  '3c': 0,\n",
       "  '4a': 0,\n",
       "  '4b': 0,\n",
       "  '4c': 2,\n",
       "  '5a': 2,\n",
       "  '5b': 3,\n",
       "  '5c': 0,\n",
       "  '6a': 0,\n",
       "  '6b': 0,\n",
       "  '6c': 0,\n",
       "  '7a': 0,\n",
       "  '7b': 0,\n",
       "  '7c': 0,\n",
       "  '8a': 0,\n",
       "  '8b': 0,\n",
       "  '8c': 0,\n",
       "  '9a': 0,\n",
       "  '9b': 0,\n",
       "  '9c': 0}}"
      ]
     },
     "execution_count": 30,
     "metadata": {},
     "output_type": "execute_result"
    }
   ],
   "source": [
    "response.json()"
   ]
  },
  {
   "cell_type": "code",
   "execution_count": 74,
   "metadata": {},
   "outputs": [],
   "source": [
    "soup = BeautifulSoup(response.content, 'html.parser')"
   ]
  },
  {
   "cell_type": "code",
   "execution_count": 75,
   "metadata": {},
   "outputs": [
    {
     "data": {
      "text/plain": [
       "{\"error\":\"You are not allowed to do this operation\",\"code_error\":\"not_allowed\"}"
      ]
     },
     "execution_count": 75,
     "metadata": {},
     "output_type": "execute_result"
    }
   ],
   "source": [
    "soup"
   ]
  },
  {
   "cell_type": "code",
   "execution_count": 62,
   "metadata": {},
   "outputs": [],
   "source": [
    "# Export CSV\n",
    "df.to_csv(\"spots_grimpe.csv\")"
   ]
  },
  {
   "cell_type": "markdown",
   "metadata": {},
   "source": [
    "## Analyse"
   ]
  },
  {
   "cell_type": "code",
   "execution_count": 20,
   "metadata": {},
   "outputs": [],
   "source": [
    "# Import CSV\n",
    "df = pd.read_csv(\"spots_grimpe.csv\")"
   ]
  },
  {
   "cell_type": "code",
   "execution_count": 71,
   "metadata": {},
   "outputs": [
    {
     "data": {
      "text/plain": [
       "['Grande voie', 'Couenne']"
      ]
     },
     "execution_count": 71,
     "metadata": {},
     "output_type": "execute_result"
    }
   ],
   "source": [
    "df['type_escalade'].iloc[34]"
   ]
  },
  {
   "cell_type": "code",
   "execution_count": null,
   "metadata": {},
   "outputs": [],
   "source": [
    "df"
   ]
  }
 ],
 "metadata": {
  "kernelspec": {
   "display_name": "base",
   "language": "python",
   "name": "python3"
  },
  "language_info": {
   "codemirror_mode": {
    "name": "ipython",
    "version": 3
   },
   "file_extension": ".py",
   "mimetype": "text/x-python",
   "name": "python",
   "nbconvert_exporter": "python",
   "pygments_lexer": "ipython3",
   "version": "3.9.13"
  }
 },
 "nbformat": 4,
 "nbformat_minor": 2
}
